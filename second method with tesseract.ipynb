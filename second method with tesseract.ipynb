{
  "cells": [
    {
      "cell_type": "code",
      "execution_count": null,
      "metadata": {},
      "outputs": [],
      "source": [
        "import cv2\n",
        "import imutils\n",
        "import pytesseract"
      ]
    },
    {
      "cell_type": "code",
      "execution_count": null,
      "metadata": {},
      "outputs": [],
      "source": [
        "pytesseract.pytesseract.tesseract_cmd = 'C:\\Program Files\\Tesseract-OCR\\\\tesseract.exe'\n",
        "original_image = cv2.imread('images.jpg')"
      ]
    },
    {
      "cell_type": "code",
      "execution_count": null,
      "metadata": {},
      "outputs": [],
      "source": [
        "original_image = imutils.resize(original_image, width=500 )\n",
        "gray_image = cv2.cvtColor(original_image, cv2.COLOR_BGR2GRAY) \n",
        "gray_image = cv2.bilateralFilter(gray_image, 11, 17, 17)\n"
      ]
    },
    {
      "cell_type": "code",
      "execution_count": null,
      "metadata": {},
      "outputs": [],
      "source": [
        "edged_image = cv2.Canny(gray_image, 30, 200)"
      ]
    },
    {
      "cell_type": "code",
      "execution_count": null,
      "metadata": {},
      "outputs": [],
      "source": [
        "contours, new = cv2.findContours(edged_image.copy(), cv2.RETR_LIST, cv2.CHAIN_APPROX_SIMPLE)\n",
        "img1 = original_image.copy()\n",
        "cv2.drawContours(img1, contours, -1, (0, 255, 0), 3)\n",
        "cv2.imshow(\"img1\", img1)"
      ]
    },
    {
      "cell_type": "code",
      "execution_count": null,
      "metadata": {},
      "outputs": [],
      "source": [
        "contours = sorted(contours, key = cv2.contourArea, reverse = True)[:30]\n",
        "\n",
        "# stores the license plate contour\n",
        "screenCnt = None\n",
        "img2 = original_image.copy()\n",
        "\n",
        "# draws top 30 contours\n",
        "cv2.drawContours(img2, contours, -1, (0, 255, 0), 3)\n",
        "cv2.imshow(\"img2\", img2)"
      ]
    },
    {
      "cell_type": "code",
      "execution_count": 1,
      "metadata": {},
      "outputs": [
        {
          "ename": "NameError",
          "evalue": "name 'contours' is not defined",
          "output_type": "error",
          "traceback": [
            "\u001b[1;31m---------------------------------------------------------------------------\u001b[0m",
            "\u001b[1;31mNameError\u001b[0m                                 Traceback (most recent call last)",
            "\u001b[1;32md:\\selected project\\Untitled9.ipynb Cell 7\u001b[0m in \u001b[0;36m4\n\u001b[0;32m      <a href='vscode-notebook-cell:/d%3A/selected%20project/Untitled9.ipynb#W6sZmlsZQ%3D%3D?line=0'>1</a>\u001b[0m count \u001b[39m=\u001b[39m \u001b[39m0\u001b[39m\n\u001b[0;32m      <a href='vscode-notebook-cell:/d%3A/selected%20project/Untitled9.ipynb#W6sZmlsZQ%3D%3D?line=1'>2</a>\u001b[0m idx \u001b[39m=\u001b[39m \u001b[39m7\u001b[39m\n\u001b[1;32m----> <a href='vscode-notebook-cell:/d%3A/selected%20project/Untitled9.ipynb#W6sZmlsZQ%3D%3D?line=3'>4</a>\u001b[0m \u001b[39mfor\u001b[39;00m c \u001b[39min\u001b[39;00m contours:\n\u001b[0;32m      <a href='vscode-notebook-cell:/d%3A/selected%20project/Untitled9.ipynb#W6sZmlsZQ%3D%3D?line=4'>5</a>\u001b[0m     \u001b[39m# approximate the license plate contour\u001b[39;00m\n\u001b[0;32m      <a href='vscode-notebook-cell:/d%3A/selected%20project/Untitled9.ipynb#W6sZmlsZQ%3D%3D?line=5'>6</a>\u001b[0m     contour_perimeter \u001b[39m=\u001b[39m cv2\u001b[39m.\u001b[39marcLength(c, \u001b[39mTrue\u001b[39;00m)\n\u001b[0;32m      <a href='vscode-notebook-cell:/d%3A/selected%20project/Untitled9.ipynb#W6sZmlsZQ%3D%3D?line=6'>7</a>\u001b[0m     approx \u001b[39m=\u001b[39m cv2\u001b[39m.\u001b[39mapproxPolyDP(c, \u001b[39m0.018\u001b[39m \u001b[39m*\u001b[39m contour_perimeter, \u001b[39mTrue\u001b[39;00m)\n",
            "\u001b[1;31mNameError\u001b[0m: name 'contours' is not defined"
          ]
        }
      ],
      "source": [
        "count = 0\n",
        "idx = 7\n",
        "\n",
        "for c in contours:\n",
        "    # approximate the license plate contour\n",
        "    contour_perimeter = cv2.arcLength(c, True)\n",
        "    approx = cv2.approxPolyDP(c, 0.018 * contour_perimeter, True)\n",
        "\n",
        "    # Look for contours with 4 corners\n",
        "    if len(approx) == 4:\n",
        "        screenCnt = approx\n",
        "\n",
        "        # find the coordinates of the license plate contour\n",
        "        x, y, w, h = cv2.boundingRect(c)\n",
        "        new_img = original_image [ y: y + h, x: x + w]\n",
        "\n",
        "        # stores the new image\n",
        "        cv2.imwrite('./'+str(idx)+'.png',new_img)\n",
        "        idx += 1\n",
        "        break\n",
        "\n",
        "# draws the license plate contour on original image\n",
        "cv2.drawContours(original_image , [screenCnt], -1, (0, 255, 0), 3)\n",
        "cv2.imshow(\"detected license plate\", original_image )"
      ]
    },
    {
      "cell_type": "code",
      "execution_count": null,
      "metadata": {},
      "outputs": [],
      "source": [
        "# filename of the cropped license plate image\n",
        "cropped_License_Plate = './7.png' \n",
        "cv2.imshow(\"cropped license plate\", cv2.imread(cropped_License_Plate))\n",
        "\n",
        "# converts the license plate characters to string\n",
        "text = pytesseract.image_to_string(cropped_License_Plate, lang='eng') "
      ]
    },
    {
      "cell_type": "code",
      "execution_count": null,
      "metadata": {},
      "outputs": [
        {
          "ename": "NameError",
          "evalue": "name 'text' is not defined",
          "output_type": "error",
          "traceback": [
            "\u001b[1;31m---------------------------------------------------------------------------\u001b[0m",
            "\u001b[1;31mNameError\u001b[0m                                 Traceback (most recent call last)",
            "\u001b[1;32md:\\selected project\\Untitled9.ipynb Cell 9\u001b[0m in \u001b[0;36m1\n\u001b[1;32m----> <a href='vscode-notebook-cell:/d%3A/selected%20project/Untitled9.ipynb#X11sZmlsZQ%3D%3D?line=0'>1</a>\u001b[0m \u001b[39mprint\u001b[39m(\u001b[39m\"\u001b[39m\u001b[39mLicense plate is:\u001b[39m\u001b[39m\"\u001b[39m, text)\n\u001b[0;32m      <a href='vscode-notebook-cell:/d%3A/selected%20project/Untitled9.ipynb#X11sZmlsZQ%3D%3D?line=1'>2</a>\u001b[0m cv2\u001b[39m.\u001b[39mwaitKey(\u001b[39m0\u001b[39m)\n\u001b[0;32m      <a href='vscode-notebook-cell:/d%3A/selected%20project/Untitled9.ipynb#X11sZmlsZQ%3D%3D?line=2'>3</a>\u001b[0m cv2\u001b[39m.\u001b[39mdestroyAllWindows()\n",
            "\u001b[1;31mNameError\u001b[0m: name 'text' is not defined"
          ]
        }
      ],
      "source": [
        "print(\"License plate is:\", text)\n",
        "cv2.waitKey(0)\n",
        "cv2.destroyAllWindows()"
      ]
    },
    {
      "cell_type": "code",
      "execution_count": null,
      "metadata": {},
      "outputs": [],
      "source": []
    }
  ],
  "metadata": {
    "colab": {
      "provenance": []
    },
    "kernelspec": {
      "display_name": "Python 3",
      "name": "python3"
    },
    "language_info": {
      "codemirror_mode": {
        "name": "ipython",
        "version": 3
      },
      "file_extension": ".py",
      "mimetype": "text/x-python",
      "name": "python",
      "nbconvert_exporter": "python",
      "pygments_lexer": "ipython3",
      "version": "3.10.11"
    }
  },
  "nbformat": 4,
  "nbformat_minor": 0
}
